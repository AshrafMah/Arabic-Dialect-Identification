{
 "cells": [
  {
   "cell_type": "markdown",
   "metadata": {},
   "source": [
    "## Model Training Notebook"
   ]
  },
  {
   "cell_type": "markdown",
   "metadata": {},
   "source": [
    "#### Importing libraries."
   ]
  },
  {
   "cell_type": "code",
   "execution_count": 1,
   "metadata": {},
   "outputs": [],
   "source": [
    "import pandas as pd\n",
    "import numpy as np\n",
    "from sklearn.linear_model import LogisticRegression\n",
    "from sklearn.pipeline import Pipeline\n",
    "from sklearn.metrics import f1_score\n"
   ]
  },
  {
   "cell_type": "code",
   "execution_count": 40,
   "metadata": {},
   "outputs": [],
   "source": [
    "from sklearn.preprocessing import FunctionTransformer\n"
   ]
  },
  {
   "cell_type": "code",
   "execution_count": 41,
   "metadata": {},
   "outputs": [],
   "source": [
    "def flatten_sequences(X):\n",
    "    return np.array([np.array(x).flatten() for x in X])"
   ]
  },
  {
   "cell_type": "markdown",
   "metadata": {},
   "source": [
    "#### Loading dataset."
   ]
  },
  {
   "cell_type": "code",
   "execution_count": 34,
   "metadata": {},
   "outputs": [],
   "source": [
    "Train_40 = pd.read_csv(r'Data\\train_data_40.csv')\n",
    "Test_40 = pd.read_csv(r'Data\\test_data_40.csv') \n",
    "\n",
    "\n",
    "Train_26 = pd.read_csv(r'Data\\train_data_26.csv')\n",
    "Test_26 = pd.read_csv(r'Data\\test_data_26.csv') "
   ]
  },
  {
   "cell_type": "code",
   "execution_count": 35,
   "metadata": {},
   "outputs": [
    {
     "data": {
      "text/html": [
       "<div>\n",
       "<style scoped>\n",
       "    .dataframe tbody tr th:only-of-type {\n",
       "        vertical-align: middle;\n",
       "    }\n",
       "\n",
       "    .dataframe tbody tr th {\n",
       "        vertical-align: top;\n",
       "    }\n",
       "\n",
       "    .dataframe thead th {\n",
       "        text-align: right;\n",
       "    }\n",
       "</style>\n",
       "<table border=\"1\" class=\"dataframe\">\n",
       "  <thead>\n",
       "    <tr style=\"text-align: right;\">\n",
       "      <th></th>\n",
       "      <th>X_test2</th>\n",
       "      <th>y_test</th>\n",
       "    </tr>\n",
       "  </thead>\n",
       "  <tbody>\n",
       "    <tr>\n",
       "      <th>0</th>\n",
       "      <td>[ 9891 13092 10570 32146     0     0     0    ...</td>\n",
       "      <td>1</td>\n",
       "    </tr>\n",
       "    <tr>\n",
       "      <th>1</th>\n",
       "      <td>[  890   100  6944 10570 32146     0     0    ...</td>\n",
       "      <td>2</td>\n",
       "    </tr>\n",
       "    <tr>\n",
       "      <th>2</th>\n",
       "      <td>[  191  7648  1523 20098     0     0     0    ...</td>\n",
       "      <td>1</td>\n",
       "    </tr>\n",
       "    <tr>\n",
       "      <th>3</th>\n",
       "      <td>[  27  148    4  405 8477    0    0    0    0 ...</td>\n",
       "      <td>2</td>\n",
       "    </tr>\n",
       "    <tr>\n",
       "      <th>4</th>\n",
       "      <td>[83667   760    16 74943     0     0     0    ...</td>\n",
       "      <td>1</td>\n",
       "    </tr>\n",
       "    <tr>\n",
       "      <th>...</th>\n",
       "      <td>...</td>\n",
       "      <td>...</td>\n",
       "    </tr>\n",
       "    <tr>\n",
       "      <th>29540</th>\n",
       "      <td>[  250  2650 12210  9891     0     0     0    ...</td>\n",
       "      <td>0</td>\n",
       "    </tr>\n",
       "    <tr>\n",
       "      <th>29541</th>\n",
       "      <td>[9891   87 9891    0    0    0    0    0    0 ...</td>\n",
       "      <td>2</td>\n",
       "    </tr>\n",
       "    <tr>\n",
       "      <th>29542</th>\n",
       "      <td>[  293   391 10784 10784    66 41692    27    ...</td>\n",
       "      <td>0</td>\n",
       "    </tr>\n",
       "    <tr>\n",
       "      <th>29543</th>\n",
       "      <td>[  172  6338   762   172 21064  4034    36  12...</td>\n",
       "      <td>2</td>\n",
       "    </tr>\n",
       "    <tr>\n",
       "      <th>29544</th>\n",
       "      <td>[   10  6849   548    82    72 29730   270   1...</td>\n",
       "      <td>4</td>\n",
       "    </tr>\n",
       "  </tbody>\n",
       "</table>\n",
       "<p>29545 rows × 2 columns</p>\n",
       "</div>"
      ],
      "text/plain": [
       "                                                 X_test2  y_test\n",
       "0      [ 9891 13092 10570 32146     0     0     0    ...       1\n",
       "1      [  890   100  6944 10570 32146     0     0    ...       2\n",
       "2      [  191  7648  1523 20098     0     0     0    ...       1\n",
       "3      [  27  148    4  405 8477    0    0    0    0 ...       2\n",
       "4      [83667   760    16 74943     0     0     0    ...       1\n",
       "...                                                  ...     ...\n",
       "29540  [  250  2650 12210  9891     0     0     0    ...       0\n",
       "29541  [9891   87 9891    0    0    0    0    0    0 ...       2\n",
       "29542  [  293   391 10784 10784    66 41692    27    ...       0\n",
       "29543  [  172  6338   762   172 21064  4034    36  12...       2\n",
       "29544  [   10  6849   548    82    72 29730   270   1...       4\n",
       "\n",
       "[29545 rows x 2 columns]"
      ]
     },
     "execution_count": 35,
     "metadata": {},
     "output_type": "execute_result"
    }
   ],
   "source": [
    "Test_26"
   ]
  },
  {
   "cell_type": "code",
   "execution_count": 37,
   "metadata": {},
   "outputs": [],
   "source": [
    "X_train  = Train_40['X_train']\n",
    "y_train = Train_40['y_train']\n",
    "\n",
    "X_test = Test_40['X_test']\n",
    "y_test = Test_40['y_test']\n",
    "\n",
    "\n",
    "\n",
    "X_train2  = Train_26['X_train2']\n",
    "y_train2 = Train_26['y_train']\n",
    "\n",
    "X_test2 = Test_26['X_test2']\n",
    "y_test2 = Test_26['y_test']"
   ]
  },
  {
   "cell_type": "code",
   "execution_count": 48,
   "metadata": {},
   "outputs": [
    {
     "ename": "SyntaxError",
     "evalue": "invalid syntax. Perhaps you forgot a comma? (<unknown>, line 1)",
     "output_type": "error",
     "traceback": [
      "Traceback \u001b[1;36m(most recent call last)\u001b[0m:\n",
      "\u001b[0m  File \u001b[0;32m~\\AppData\\Roaming\\Python\\Python311\\site-packages\\IPython\\core\\interactiveshell.py:3460\u001b[0m in \u001b[0;35mrun_code\u001b[0m\n    exec(code_obj, self.user_global_ns, self.user_ns)\u001b[0m\n",
      "\u001b[0m  Cell \u001b[0;32mIn[48], line 21\u001b[0m\n    Train_40['X_train'] = Train_40['X_train'].apply(preprocess_str_array)\u001b[0m\n",
      "\u001b[0m  File \u001b[0;32mc:\\Users\\hp\\AppData\\Local\\Programs\\Python\\Python311\\Lib\\site-packages\\pandas\\core\\series.py:4765\u001b[0m in \u001b[0;35mapply\u001b[0m\n    ).apply()\u001b[0m\n",
      "\u001b[0m  File \u001b[0;32mc:\\Users\\hp\\AppData\\Local\\Programs\\Python\\Python311\\Lib\\site-packages\\pandas\\core\\apply.py:1201\u001b[0m in \u001b[0;35mapply\u001b[0m\n    return self.apply_standard()\u001b[0m\n",
      "\u001b[0m  File \u001b[0;32mc:\\Users\\hp\\AppData\\Local\\Programs\\Python\\Python311\\Lib\\site-packages\\pandas\\core\\apply.py:1281\u001b[0m in \u001b[0;35mapply_standard\u001b[0m\n    mapped = obj._map_values(\u001b[0m\n",
      "\u001b[0m  File \u001b[0;32mc:\\Users\\hp\\AppData\\Local\\Programs\\Python\\Python311\\Lib\\site-packages\\pandas\\core\\base.py:921\u001b[0m in \u001b[0;35m_map_values\u001b[0m\n    return algorithms.map_array(arr, mapper, na_action=na_action, convert=convert)\u001b[0m\n",
      "\u001b[0m  File \u001b[0;32mc:\\Users\\hp\\AppData\\Local\\Programs\\Python\\Python311\\Lib\\site-packages\\pandas\\core\\algorithms.py:1812\u001b[0m in \u001b[0;35mmap_array\u001b[0m\n    return lib.map_infer(values, mapper, convert=convert)\u001b[0m\n",
      "\u001b[0m  File \u001b[0;32mlib.pyx:2917\u001b[0m in \u001b[0;35mpandas._libs.lib.map_infer\u001b[0m\n",
      "\u001b[0m  Cell \u001b[0;32mIn[48], line 19\u001b[0m in \u001b[0;35mpreprocess_str_array\u001b[0m\n    return np.array(ast.literal_eval(x))\u001b[0m\n",
      "\u001b[0m  File \u001b[0;32mc:\\Users\\hp\\AppData\\Local\\Programs\\Python\\Python311\\Lib\\ast.py:64\u001b[0m in \u001b[0;35mliteral_eval\u001b[0m\n    node_or_string = parse(node_or_string.lstrip(\" \\t\"), mode='eval')\u001b[0m\n",
      "\u001b[1;36m  File \u001b[1;32mc:\\Users\\hp\\AppData\\Local\\Programs\\Python\\Python311\\Lib\\ast.py:50\u001b[1;36m in \u001b[1;35mparse\u001b[1;36m\n\u001b[1;33m    return compile(source, filename, mode, flags,\u001b[1;36m\n",
      "\u001b[1;36m  File \u001b[1;32m<unknown>:1\u001b[1;36m\u001b[0m\n\u001b[1;33m    [   2, 320, 87, 359, 2504, 1631, 805, 80, 0    0, 0    0, 0    0, 0    0, 0    0, 0    0, 0    0, 0    0, 0    0, 0    0, 0    0, 0    0, 0    0, 0    0, 0    0, 0    0]\u001b[0m\n\u001b[1;37m                                              ^\u001b[0m\n\u001b[1;31mSyntaxError\u001b[0m\u001b[1;31m:\u001b[0m invalid syntax. Perhaps you forgot a comma?\n"
     ]
    }
   ],
   "source": [
    "import numpy as np\n",
    "import pandas as pd\n",
    "from sklearn.preprocessing import OneHotEncoder\n",
    "from sklearn.metrics import f1_score\n",
    "import tensorflow as tf\n",
    "from tensorflow.keras.models import Sequential\n",
    "from tensorflow.keras.layers import Embedding, LSTM, Dense\n",
    "\n",
    "# Read the CSV files\n",
    "Train_40 = pd.read_csv(r'Data\\train_data_40.csv')\n",
    "Test_40 = pd.read_csv(r'Data\\test_data_40.csv')\n",
    "\n",
    "# Convert string representations to numpy arrays\n",
    "import ast\n",
    "import re\n",
    "\n",
    "def preprocess_str_array(x):\n",
    "    x = re.sub(r'(\\d)\\s+(\\d)', r'\\1, \\2', x)\n",
    "    return np.array(ast.literal_eval(x))\n",
    "\n",
    "Train_40['X_train'] = Train_40['X_train'].apply(preprocess_str_array)\n",
    "Test_40['X_test'] = Test_40['X_test'].apply(preprocess_str_array)\n",
    "\n",
    "# Extract the features and labels\n",
    "X_train = np.stack(Train_40['X_train'].values)\n",
    "y_train = Train_40['y_train'].values\n",
    "\n",
    "X_test = np.stack(Test_40['X_test'].values)\n",
    "y_test = Test_40['y_test'].values\n",
    "\n",
    "# One-hot encode the labels\n",
    "one_hot_encoder = OneHotEncoder(sparse=False)\n",
    "y_train_encoded = one_hot_encoder.fit_transform(y_train.reshape(-1, 1))\n",
    "y_test_encoded = one_hot_encoder.transform(y_test.reshape(-1, 1))\n",
    "\n",
    "# Define the model\n",
    "model = Sequential([\n",
    "    Embedding(input_dim=116958, output_dim=128, input_length=40),\n",
    "    LSTM(128, return_sequences=True),\n",
    "    LSTM(128),\n",
    "    Dense(5, activation='softmax')\n",
    "])\n",
    "\n",
    "model.compile(optimizer='adam', loss='categorical_crossentropy', metrics=['accuracy'])\n",
    "\n",
    "# Train the model\n",
    "model.fit(X_train, y_train_encoded, epochs=10, batch_size=32, validation_split=0.2)\n",
    "\n",
    "# Make predictions\n",
    "pred = model.predict(X_test)\n",
    "\n",
    "# Calculate the f1_score\n",
    "pred_labels = np.argmax(pred, axis=1)\n",
    "f1 = f1_score(y_test, pred_labels, average='macro')\n",
    "print(f'F1 Score: {f1}')\n"
   ]
  }
 ],
 "metadata": {
  "kernelspec": {
   "display_name": "Python 3",
   "language": "python",
   "name": "python3"
  },
  "language_info": {
   "codemirror_mode": {
    "name": "ipython",
    "version": 3
   },
   "file_extension": ".py",
   "mimetype": "text/x-python",
   "name": "python",
   "nbconvert_exporter": "python",
   "pygments_lexer": "ipython3",
   "version": "3.11.2"
  }
 },
 "nbformat": 4,
 "nbformat_minor": 2
}
