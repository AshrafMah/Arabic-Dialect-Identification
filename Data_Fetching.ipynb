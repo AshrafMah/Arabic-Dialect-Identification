{
  "cells": [
    {
      "cell_type": "markdown",
      "metadata": {
        "id": "GOhMKihv4e5D"
      },
      "source": [
        "#### This Notebook is only for fetching the data from .db file and converting it into a .csv file and then using the .csv file for the rest of the task."
      ]
    },
    {
      "cell_type": "code",
      "execution_count": 1,
      "metadata": {
        "id": "6lergobG4e5N"
      },
      "outputs": [],
      "source": [
        "import pandas as pd\n",
        "import sqlite3"
      ]
    },
    {
      "cell_type": "code",
      "execution_count": 3,
      "metadata": {
        "id": "dMQKi9qb4e5Q"
      },
      "outputs": [],
      "source": [
        "def fetch_data(link):\n",
        "    conn = sqlite3.connect(link)\n",
        "\n",
        "    cursor = conn.cursor()\n",
        "    cursor.execute(\"SELECT name FROM sqlite_master WHERE type='table';\")\n",
        "    tables = cursor.fetchall()\n",
        "\n",
        "    print(\"Tables:\")\n",
        "    for table in tables:\n",
        "        print(table[0])\n",
        "        cursor.execute(f'SELECT * FROM {table[0]}')\n",
        "\n",
        "    feats = pd.read_sql_query('SELECT * FROM id_text', conn)\n",
        "    labels = pd.read_sql_query('SELECT * FROM id_dialect', conn)\n",
        "    df_raw = pd.merge(feats, labels, on='id')\n",
        "\n",
        "    cursor.close()\n",
        "    conn.close()\n",
        "    return df_raw\n"
      ]
    },
    {
      "cell_type": "code",
      "execution_count": 5,
      "metadata": {
        "colab": {
          "base_uri": "https://localhost:8080/",
          "height": 358
        },
        "id": "puqGFDe-4e5S",
        "outputId": "83e320d9-c67a-4237-ba2b-9f1e7675ffaa"
      },
      "outputs": [
        {
          "name": "stdout",
          "output_type": "stream",
          "text": [
            "Tables:\n",
            "id_text\n",
            "id_dialect\n"
          ]
        },
        {
          "data": {
            "text/html": [
              "<div>\n",
              "<style scoped>\n",
              "    .dataframe tbody tr th:only-of-type {\n",
              "        vertical-align: middle;\n",
              "    }\n",
              "\n",
              "    .dataframe tbody tr th {\n",
              "        vertical-align: top;\n",
              "    }\n",
              "\n",
              "    .dataframe thead th {\n",
              "        text-align: right;\n",
              "    }\n",
              "</style>\n",
              "<table border=\"1\" class=\"dataframe\">\n",
              "  <thead>\n",
              "    <tr style=\"text-align: right;\">\n",
              "      <th></th>\n",
              "      <th>id</th>\n",
              "      <th>text</th>\n",
              "      <th>dialect</th>\n",
              "    </tr>\n",
              "  </thead>\n",
              "  <tbody>\n",
              "    <tr>\n",
              "      <th>0</th>\n",
              "      <td>1009754958479151232</td>\n",
              "      <td>@toha_Altomy @gy_yah قليلين ادب ومنافقين. لو اختهم او قريبتهم تتعاكس تقولي عليهم من نشاط حقوق المرأة من ردة فعلهم.</td>\n",
              "      <td>LY</td>\n",
              "    </tr>\n",
              "    <tr>\n",
              "      <th>1</th>\n",
              "      <td>1009794751548313600</td>\n",
              "      <td>@AlmFaisal 😂😂 الليبيين متقلبين!!!\\nبس بالنسبة ليا انا ميليشياوي زمان وتوة</td>\n",
              "      <td>LY</td>\n",
              "    </tr>\n",
              "    <tr>\n",
              "      <th>2</th>\n",
              "      <td>1019989115490787200</td>\n",
              "      <td>@smsm071990 @ALMOGRBE كل 20 تانيه شاب ليبي بيرتاح لبنت مختلفة ويلاحظ انها غير كل البنات وبيحس كأنه يعرفها من زمان. بعدين يتزوج وحدة منهن وممكن اثنين ولاثلاثة وتنقلب الرومانسية لعياط وشياط وتهزيب\\nand they live happily ever after\\nذي اند</td>\n",
              "      <td>LY</td>\n",
              "    </tr>\n",
              "    <tr>\n",
              "      <th>3</th>\n",
              "      <td>1035479791758135168</td>\n",
              "      <td>@AboryPro @lyranoo85 رانيا عقليتك متخلفة. اولا الانسان يلي يحتاج اهل يخاف منهم علشان يكون محترم هو انسان قليل الادب اصلاً. ثانياً شن ذنب يلي معندهش اب ولا ام ولا خوت ولا خوات؟ يعني اليتيمة متستحقش تتزوج؟ وثالثاً ليش البنت هي بس لازم ادير الف حساب للراجل؟ هي متستحقش يندارلها الف حساب ولا هي عبدة؟</td>\n",
              "      <td>LY</td>\n",
              "    </tr>\n",
              "    <tr>\n",
              "      <th>4</th>\n",
              "      <td>1035481122921164800</td>\n",
              "      <td>@lyranoo85 شكلك متعقدة علشان الراجل لي تحبيه ازوج بنت يتيمة ولا بنت معندهش خوت. هدي اعصابك وفكينا من التخلف امتاعك</td>\n",
              "      <td>LY</td>\n",
              "    </tr>\n",
              "    <tr>\n",
              "      <th>5</th>\n",
              "      <td>877881537122979840</td>\n",
              "      <td>@alibobkr63 او حتى من اي دين او طائفة. اسف ممكن الغلط غلطتي بس مكنش قصدي</td>\n",
              "      <td>LY</td>\n",
              "    </tr>\n",
              "    <tr>\n",
              "      <th>6</th>\n",
              "      <td>882940840888471552</td>\n",
              "      <td>@muhamed01111 باهي نستنوه. بلكي مشغول ولا حاجة</td>\n",
              "      <td>LY</td>\n",
              "    </tr>\n",
              "  </tbody>\n",
              "</table>\n",
              "</div>"
            ],
            "text/plain": [
              "                    id  \\\n",
              "0  1009754958479151232   \n",
              "1  1009794751548313600   \n",
              "2  1019989115490787200   \n",
              "3  1035479791758135168   \n",
              "4  1035481122921164800   \n",
              "5   877881537122979840   \n",
              "6   882940840888471552   \n",
              "\n",
              "                                                                                                                                                                                                                                                                                                       text  \\\n",
              "0                                                                                                                                                                                        @toha_Altomy @gy_yah قليلين ادب ومنافقين. لو اختهم او قريبتهم تتعاكس تقولي عليهم من نشاط حقوق المرأة من ردة فعلهم.   \n",
              "1                                                                                                                                                                                                                                 @AlmFaisal 😂😂 الليبيين متقلبين!!!\\nبس بالنسبة ليا انا ميليشياوي زمان وتوة   \n",
              "2                                                              @smsm071990 @ALMOGRBE كل 20 تانيه شاب ليبي بيرتاح لبنت مختلفة ويلاحظ انها غير كل البنات وبيحس كأنه يعرفها من زمان. بعدين يتزوج وحدة منهن وممكن اثنين ولاثلاثة وتنقلب الرومانسية لعياط وشياط وتهزيب\\nand they live happily ever after\\nذي اند   \n",
              "3  @AboryPro @lyranoo85 رانيا عقليتك متخلفة. اولا الانسان يلي يحتاج اهل يخاف منهم علشان يكون محترم هو انسان قليل الادب اصلاً. ثانياً شن ذنب يلي معندهش اب ولا ام ولا خوت ولا خوات؟ يعني اليتيمة متستحقش تتزوج؟ وثالثاً ليش البنت هي بس لازم ادير الف حساب للراجل؟ هي متستحقش يندارلها الف حساب ولا هي عبدة؟   \n",
              "4                                                                                                                                                                                        @lyranoo85 شكلك متعقدة علشان الراجل لي تحبيه ازوج بنت يتيمة ولا بنت معندهش خوت. هدي اعصابك وفكينا من التخلف امتاعك   \n",
              "5                                                                                                                                                                                                                                  @alibobkr63 او حتى من اي دين او طائفة. اسف ممكن الغلط غلطتي بس مكنش قصدي   \n",
              "6                                                                                                                                                                                                                                                            @muhamed01111 باهي نستنوه. بلكي مشغول ولا حاجة   \n",
              "\n",
              "  dialect  \n",
              "0      LY  \n",
              "1      LY  \n",
              "2      LY  \n",
              "3      LY  \n",
              "4      LY  \n",
              "5      LY  \n",
              "6      LY  "
            ]
          },
          "execution_count": 5,
          "metadata": {},
          "output_type": "execute_result"
        }
      ],
      "source": [
        "data = fetch_data('../Data/dialects_database.db')\n",
        "pd.set_option('display.max_colwidth', 100000)\n",
        "data.head(7)"
      ]
    },
    {
      "cell_type": "code",
      "execution_count": 6,
      "metadata": {
        "id": "Goxvu5LY4e5U",
        "outputId": "d78b6653-6ead-499a-e3eb-a9fe709f7530"
      },
      "outputs": [
        {
          "data": {
            "text/plain": [
              "(147725, 3)"
            ]
          },
          "execution_count": 6,
          "metadata": {},
          "output_type": "execute_result"
        }
      ],
      "source": [
        "data.shape"
      ]
    },
    {
      "cell_type": "code",
      "execution_count": 8,
      "metadata": {
        "id": "rY0IbNBf4e5U"
      },
      "outputs": [],
      "source": [
        "# save as csv\n",
        "data.to_csv('../Data/data.csv', index=False)"
      ]
    }
  ],
  "metadata": {
    "colab": {
      "provenance": []
    },
    "kernelspec": {
      "display_name": "Python 3",
      "language": "python",
      "name": "python3"
    },
    "language_info": {
      "codemirror_mode": {
        "name": "ipython",
        "version": 3
      },
      "file_extension": ".py",
      "mimetype": "text/x-python",
      "name": "python",
      "nbconvert_exporter": "python",
      "pygments_lexer": "ipython3",
      "version": "3.11.2"
    }
  },
  "nbformat": 4,
  "nbformat_minor": 0
}
