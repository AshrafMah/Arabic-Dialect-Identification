{
  "cells": [
    {
      "cell_type": "markdown",
      "metadata": {
        "id": "JWrTGGys5MZG"
      },
      "source": [
        "## This notebook for data preprocessing here we will do the following steps:\n",
        "1. Load the data.\n",
        "2. split the data.\n",
        "3. do some EDA.\n",
        "4. cleanig and preprocessing."
      ]
    },
    {
      "cell_type": "code",
      "source": [
        "!pip install pyarabic\n",
        "!pip install emoji\n",
        "!pip install farasapy\n",
        "\n",
        "\n"
      ],
      "metadata": {
        "id": "yXcI7UPoDlHx",
        "colab": {
          "base_uri": "https://localhost:8080/"
        },
        "outputId": "cbca47af-fb9e-4370-f226-db1837fbe5ee"
      },
      "execution_count": 24,
      "outputs": [
        {
          "output_type": "stream",
          "name": "stdout",
          "text": [
            "Requirement already satisfied: pyarabic in /usr/local/lib/python3.10/dist-packages (0.6.15)\n",
            "Requirement already satisfied: six>=1.14.0 in /usr/local/lib/python3.10/dist-packages (from pyarabic) (1.16.0)\n",
            "Requirement already satisfied: emoji in /usr/local/lib/python3.10/dist-packages (2.12.1)\n",
            "Requirement already satisfied: typing-extensions>=4.7.0 in /usr/local/lib/python3.10/dist-packages (from emoji) (4.11.0)\n",
            "Requirement already satisfied: farasapy in /usr/local/lib/python3.10/dist-packages (0.0.14)\n",
            "Requirement already satisfied: requests in /usr/local/lib/python3.10/dist-packages (from farasapy) (2.31.0)\n",
            "Requirement already satisfied: tqdm in /usr/local/lib/python3.10/dist-packages (from farasapy) (4.66.4)\n",
            "Requirement already satisfied: charset-normalizer<4,>=2 in /usr/local/lib/python3.10/dist-packages (from requests->farasapy) (3.3.2)\n",
            "Requirement already satisfied: idna<4,>=2.5 in /usr/local/lib/python3.10/dist-packages (from requests->farasapy) (3.7)\n",
            "Requirement already satisfied: urllib3<3,>=1.21.1 in /usr/local/lib/python3.10/dist-packages (from requests->farasapy) (2.0.7)\n",
            "Requirement already satisfied: certifi>=2017.4.17 in /usr/local/lib/python3.10/dist-packages (from requests->farasapy) (2024.2.2)\n"
          ]
        }
      ]
    },
    {
      "cell_type": "markdown",
      "metadata": {
        "id": "E7bgwXxt5MZP"
      },
      "source": [
        "## Importing the required libraries"
      ]
    },
    {
      "cell_type": "code",
      "execution_count": 25,
      "metadata": {
        "id": "SLL6guLe5MZR"
      },
      "outputs": [],
      "source": [
        "import pandas as pd\n",
        "import numpy as np\n",
        "\n",
        "import re\n",
        "import matplotlib.pyplot as plt\n",
        "import seaborn as sns\n",
        "\n",
        "import nltk\n",
        "import emoji\n",
        "\n",
        "from farasa.stemmer import FarasaStemmer\n",
        "from nltk.corpus import stopwords\n",
        "import pyarabic.araby as araby\n",
        "\n",
        "from sklearn.model_selection import train_test_split\n",
        "from sklearn.base import BaseEstimator, TransformerMixin\n",
        "from tensorflow.keras.preprocessing.text import Tokenizer\n",
        "from tensorflow.keras.preprocessing.sequence import pad_sequences\n",
        "from sklearn.preprocessing import LabelEncoder\n",
        "\n",
        "\n",
        "pd.set_option('display.max_colwidth', 100000)\n"
      ]
    },
    {
      "cell_type": "code",
      "source": [
        "from sklearn.linear_model import LogisticRegression\n"
      ],
      "metadata": {
        "id": "hszp8ij837Ox"
      },
      "execution_count": 58,
      "outputs": []
    },
    {
      "cell_type": "code",
      "source": [
        "from sklearn.pipeline import Pipeline\n"
      ],
      "metadata": {
        "id": "f_hGiLZ94V0d"
      },
      "execution_count": 62,
      "outputs": []
    },
    {
      "cell_type": "code",
      "source": [
        "from sklearn.metrics import f1_score\n"
      ],
      "metadata": {
        "id": "IvtQSPYi5V_a"
      },
      "execution_count": 67,
      "outputs": []
    },
    {
      "cell_type": "code",
      "source": [
        "from google.colab import drive\n",
        "drive.mount('/content/drive')"
      ],
      "metadata": {
        "colab": {
          "base_uri": "https://localhost:8080/"
        },
        "id": "R5RiNoadehQa",
        "outputId": "5946c26f-0a62-40a1-895a-450ba17306c8"
      },
      "execution_count": 26,
      "outputs": [
        {
          "output_type": "stream",
          "name": "stdout",
          "text": [
            "Drive already mounted at /content/drive; to attempt to forcibly remount, call drive.mount(\"/content/drive\", force_remount=True).\n"
          ]
        }
      ]
    },
    {
      "cell_type": "markdown",
      "metadata": {
        "id": "JK5VK8cB5MZV"
      },
      "source": [
        "## Loding dataset"
      ]
    },
    {
      "cell_type": "code",
      "execution_count": 27,
      "metadata": {
        "id": "z8BMtzgf5MZV"
      },
      "outputs": [],
      "source": [
        "data = pd.read_csv(\"/content/drive/MyDrive/NLP/Final Task/Data/data.csv\")"
      ]
    },
    {
      "cell_type": "code",
      "execution_count": null,
      "metadata": {
        "colab": {
          "base_uri": "https://localhost:8080/"
        },
        "id": "nsjJqcP85MZW",
        "outputId": "378524dc-da27-47d7-b8a8-14bae485a221"
      },
      "outputs": [
        {
          "output_type": "execute_result",
          "data": {
            "text/plain": [
              "Index(['id', 'text', 'dialect'], dtype='object')"
            ]
          },
          "metadata": {},
          "execution_count": 7
        }
      ],
      "source": [
        "data.columns"
      ]
    },
    {
      "cell_type": "code",
      "execution_count": null,
      "metadata": {
        "colab": {
          "base_uri": "https://localhost:8080/",
          "height": 206
        },
        "id": "eE_oReK35MZX",
        "outputId": "86f7c200-6be9-4e2a-ccad-0d9d33fae8f2"
      },
      "outputs": [
        {
          "output_type": "execute_result",
          "data": {
            "text/plain": [
              "                         id  \\\n",
              "15579    745951303105396736   \n",
              "121297   929102795483041792   \n",
              "103300  1162482949528403968   \n",
              "117493  1128528003997343616   \n",
              "70955   1126574974465191936   \n",
              "\n",
              "                                                     text dialect  \n",
              "15579         @mehp89 😰😩🙈🙊 معليش صيام مفيش تركيز يا دكتور      LY  \n",
              "121297                  @Ab_Fii خلص روح العب بشي نعجه احط      LB  \n",
              "103300  و كما قال المثل الانجليزي .... you can't polis...      EG  \n",
              "117493  @Safaa16111Safaa صحيح بس بدو تغيير بوجيات ما اكتر      LB  \n",
              "70955   @hannaemil1 انا مش بشوف اى ايفينت يا حنا\\nعامة...      EG  "
            ],
            "text/html": [
              "\n",
              "  <div id=\"df-ec1f2ee5-c15a-4c4f-84e5-fabf88afa0a6\" class=\"colab-df-container\">\n",
              "    <div>\n",
              "<style scoped>\n",
              "    .dataframe tbody tr th:only-of-type {\n",
              "        vertical-align: middle;\n",
              "    }\n",
              "\n",
              "    .dataframe tbody tr th {\n",
              "        vertical-align: top;\n",
              "    }\n",
              "\n",
              "    .dataframe thead th {\n",
              "        text-align: right;\n",
              "    }\n",
              "</style>\n",
              "<table border=\"1\" class=\"dataframe\">\n",
              "  <thead>\n",
              "    <tr style=\"text-align: right;\">\n",
              "      <th></th>\n",
              "      <th>id</th>\n",
              "      <th>text</th>\n",
              "      <th>dialect</th>\n",
              "    </tr>\n",
              "  </thead>\n",
              "  <tbody>\n",
              "    <tr>\n",
              "      <th>15579</th>\n",
              "      <td>745951303105396736</td>\n",
              "      <td>@mehp89 😰😩🙈🙊 معليش صيام مفيش تركيز يا دكتور</td>\n",
              "      <td>LY</td>\n",
              "    </tr>\n",
              "    <tr>\n",
              "      <th>121297</th>\n",
              "      <td>929102795483041792</td>\n",
              "      <td>@Ab_Fii خلص روح العب بشي نعجه احط</td>\n",
              "      <td>LB</td>\n",
              "    </tr>\n",
              "    <tr>\n",
              "      <th>103300</th>\n",
              "      <td>1162482949528403968</td>\n",
              "      <td>و كما قال المثل الانجليزي .... you can't polis...</td>\n",
              "      <td>EG</td>\n",
              "    </tr>\n",
              "    <tr>\n",
              "      <th>117493</th>\n",
              "      <td>1128528003997343616</td>\n",
              "      <td>@Safaa16111Safaa صحيح بس بدو تغيير بوجيات ما اكتر</td>\n",
              "      <td>LB</td>\n",
              "    </tr>\n",
              "    <tr>\n",
              "      <th>70955</th>\n",
              "      <td>1126574974465191936</td>\n",
              "      <td>@hannaemil1 انا مش بشوف اى ايفينت يا حنا\\nعامة...</td>\n",
              "      <td>EG</td>\n",
              "    </tr>\n",
              "  </tbody>\n",
              "</table>\n",
              "</div>\n",
              "    <div class=\"colab-df-buttons\">\n",
              "\n",
              "  <div class=\"colab-df-container\">\n",
              "    <button class=\"colab-df-convert\" onclick=\"convertToInteractive('df-ec1f2ee5-c15a-4c4f-84e5-fabf88afa0a6')\"\n",
              "            title=\"Convert this dataframe to an interactive table.\"\n",
              "            style=\"display:none;\">\n",
              "\n",
              "  <svg xmlns=\"http://www.w3.org/2000/svg\" height=\"24px\" viewBox=\"0 -960 960 960\">\n",
              "    <path d=\"M120-120v-720h720v720H120Zm60-500h600v-160H180v160Zm220 220h160v-160H400v160Zm0 220h160v-160H400v160ZM180-400h160v-160H180v160Zm440 0h160v-160H620v160ZM180-180h160v-160H180v160Zm440 0h160v-160H620v160Z\"/>\n",
              "  </svg>\n",
              "    </button>\n",
              "\n",
              "  <style>\n",
              "    .colab-df-container {\n",
              "      display:flex;\n",
              "      gap: 12px;\n",
              "    }\n",
              "\n",
              "    .colab-df-convert {\n",
              "      background-color: #E8F0FE;\n",
              "      border: none;\n",
              "      border-radius: 50%;\n",
              "      cursor: pointer;\n",
              "      display: none;\n",
              "      fill: #1967D2;\n",
              "      height: 32px;\n",
              "      padding: 0 0 0 0;\n",
              "      width: 32px;\n",
              "    }\n",
              "\n",
              "    .colab-df-convert:hover {\n",
              "      background-color: #E2EBFA;\n",
              "      box-shadow: 0px 1px 2px rgba(60, 64, 67, 0.3), 0px 1px 3px 1px rgba(60, 64, 67, 0.15);\n",
              "      fill: #174EA6;\n",
              "    }\n",
              "\n",
              "    .colab-df-buttons div {\n",
              "      margin-bottom: 4px;\n",
              "    }\n",
              "\n",
              "    [theme=dark] .colab-df-convert {\n",
              "      background-color: #3B4455;\n",
              "      fill: #D2E3FC;\n",
              "    }\n",
              "\n",
              "    [theme=dark] .colab-df-convert:hover {\n",
              "      background-color: #434B5C;\n",
              "      box-shadow: 0px 1px 3px 1px rgba(0, 0, 0, 0.15);\n",
              "      filter: drop-shadow(0px 1px 2px rgba(0, 0, 0, 0.3));\n",
              "      fill: #FFFFFF;\n",
              "    }\n",
              "  </style>\n",
              "\n",
              "    <script>\n",
              "      const buttonEl =\n",
              "        document.querySelector('#df-ec1f2ee5-c15a-4c4f-84e5-fabf88afa0a6 button.colab-df-convert');\n",
              "      buttonEl.style.display =\n",
              "        google.colab.kernel.accessAllowed ? 'block' : 'none';\n",
              "\n",
              "      async function convertToInteractive(key) {\n",
              "        const element = document.querySelector('#df-ec1f2ee5-c15a-4c4f-84e5-fabf88afa0a6');\n",
              "        const dataTable =\n",
              "          await google.colab.kernel.invokeFunction('convertToInteractive',\n",
              "                                                    [key], {});\n",
              "        if (!dataTable) return;\n",
              "\n",
              "        const docLinkHtml = 'Like what you see? Visit the ' +\n",
              "          '<a target=\"_blank\" href=https://colab.research.google.com/notebooks/data_table.ipynb>data table notebook</a>'\n",
              "          + ' to learn more about interactive tables.';\n",
              "        element.innerHTML = '';\n",
              "        dataTable['output_type'] = 'display_data';\n",
              "        await google.colab.output.renderOutput(dataTable, element);\n",
              "        const docLink = document.createElement('div');\n",
              "        docLink.innerHTML = docLinkHtml;\n",
              "        element.appendChild(docLink);\n",
              "      }\n",
              "    </script>\n",
              "  </div>\n",
              "\n",
              "\n",
              "<div id=\"df-97e11ce7-fdc1-4e62-81ea-d4daad4971cc\">\n",
              "  <button class=\"colab-df-quickchart\" onclick=\"quickchart('df-97e11ce7-fdc1-4e62-81ea-d4daad4971cc')\"\n",
              "            title=\"Suggest charts\"\n",
              "            style=\"display:none;\">\n",
              "\n",
              "<svg xmlns=\"http://www.w3.org/2000/svg\" height=\"24px\"viewBox=\"0 0 24 24\"\n",
              "     width=\"24px\">\n",
              "    <g>\n",
              "        <path d=\"M19 3H5c-1.1 0-2 .9-2 2v14c0 1.1.9 2 2 2h14c1.1 0 2-.9 2-2V5c0-1.1-.9-2-2-2zM9 17H7v-7h2v7zm4 0h-2V7h2v10zm4 0h-2v-4h2v4z\"/>\n",
              "    </g>\n",
              "</svg>\n",
              "  </button>\n",
              "\n",
              "<style>\n",
              "  .colab-df-quickchart {\n",
              "      --bg-color: #E8F0FE;\n",
              "      --fill-color: #1967D2;\n",
              "      --hover-bg-color: #E2EBFA;\n",
              "      --hover-fill-color: #174EA6;\n",
              "      --disabled-fill-color: #AAA;\n",
              "      --disabled-bg-color: #DDD;\n",
              "  }\n",
              "\n",
              "  [theme=dark] .colab-df-quickchart {\n",
              "      --bg-color: #3B4455;\n",
              "      --fill-color: #D2E3FC;\n",
              "      --hover-bg-color: #434B5C;\n",
              "      --hover-fill-color: #FFFFFF;\n",
              "      --disabled-bg-color: #3B4455;\n",
              "      --disabled-fill-color: #666;\n",
              "  }\n",
              "\n",
              "  .colab-df-quickchart {\n",
              "    background-color: var(--bg-color);\n",
              "    border: none;\n",
              "    border-radius: 50%;\n",
              "    cursor: pointer;\n",
              "    display: none;\n",
              "    fill: var(--fill-color);\n",
              "    height: 32px;\n",
              "    padding: 0;\n",
              "    width: 32px;\n",
              "  }\n",
              "\n",
              "  .colab-df-quickchart:hover {\n",
              "    background-color: var(--hover-bg-color);\n",
              "    box-shadow: 0 1px 2px rgba(60, 64, 67, 0.3), 0 1px 3px 1px rgba(60, 64, 67, 0.15);\n",
              "    fill: var(--button-hover-fill-color);\n",
              "  }\n",
              "\n",
              "  .colab-df-quickchart-complete:disabled,\n",
              "  .colab-df-quickchart-complete:disabled:hover {\n",
              "    background-color: var(--disabled-bg-color);\n",
              "    fill: var(--disabled-fill-color);\n",
              "    box-shadow: none;\n",
              "  }\n",
              "\n",
              "  .colab-df-spinner {\n",
              "    border: 2px solid var(--fill-color);\n",
              "    border-color: transparent;\n",
              "    border-bottom-color: var(--fill-color);\n",
              "    animation:\n",
              "      spin 1s steps(1) infinite;\n",
              "  }\n",
              "\n",
              "  @keyframes spin {\n",
              "    0% {\n",
              "      border-color: transparent;\n",
              "      border-bottom-color: var(--fill-color);\n",
              "      border-left-color: var(--fill-color);\n",
              "    }\n",
              "    20% {\n",
              "      border-color: transparent;\n",
              "      border-left-color: var(--fill-color);\n",
              "      border-top-color: var(--fill-color);\n",
              "    }\n",
              "    30% {\n",
              "      border-color: transparent;\n",
              "      border-left-color: var(--fill-color);\n",
              "      border-top-color: var(--fill-color);\n",
              "      border-right-color: var(--fill-color);\n",
              "    }\n",
              "    40% {\n",
              "      border-color: transparent;\n",
              "      border-right-color: var(--fill-color);\n",
              "      border-top-color: var(--fill-color);\n",
              "    }\n",
              "    60% {\n",
              "      border-color: transparent;\n",
              "      border-right-color: var(--fill-color);\n",
              "    }\n",
              "    80% {\n",
              "      border-color: transparent;\n",
              "      border-right-color: var(--fill-color);\n",
              "      border-bottom-color: var(--fill-color);\n",
              "    }\n",
              "    90% {\n",
              "      border-color: transparent;\n",
              "      border-bottom-color: var(--fill-color);\n",
              "    }\n",
              "  }\n",
              "</style>\n",
              "\n",
              "  <script>\n",
              "    async function quickchart(key) {\n",
              "      const quickchartButtonEl =\n",
              "        document.querySelector('#' + key + ' button');\n",
              "      quickchartButtonEl.disabled = true;  // To prevent multiple clicks.\n",
              "      quickchartButtonEl.classList.add('colab-df-spinner');\n",
              "      try {\n",
              "        const charts = await google.colab.kernel.invokeFunction(\n",
              "            'suggestCharts', [key], {});\n",
              "      } catch (error) {\n",
              "        console.error('Error during call to suggestCharts:', error);\n",
              "      }\n",
              "      quickchartButtonEl.classList.remove('colab-df-spinner');\n",
              "      quickchartButtonEl.classList.add('colab-df-quickchart-complete');\n",
              "    }\n",
              "    (() => {\n",
              "      let quickchartButtonEl =\n",
              "        document.querySelector('#df-97e11ce7-fdc1-4e62-81ea-d4daad4971cc button');\n",
              "      quickchartButtonEl.style.display =\n",
              "        google.colab.kernel.accessAllowed ? 'block' : 'none';\n",
              "    })();\n",
              "  </script>\n",
              "</div>\n",
              "\n",
              "    </div>\n",
              "  </div>\n"
            ],
            "application/vnd.google.colaboratory.intrinsic+json": {
              "type": "dataframe",
              "summary": "{\n  \"name\": \"data\",\n  \"rows\": 5,\n  \"fields\": [\n    {\n      \"column\": \"id\",\n      \"properties\": {\n        \"dtype\": \"number\",\n        \"std\": 178039391678565664,\n        \"min\": 745951303105396736,\n        \"max\": 1162482949528403968,\n        \"num_unique_values\": 5,\n        \"samples\": [\n          929102795483041792,\n          1126574974465191936,\n          1162482949528403968\n        ],\n        \"semantic_type\": \"\",\n        \"description\": \"\"\n      }\n    },\n    {\n      \"column\": \"text\",\n      \"properties\": {\n        \"dtype\": \"string\",\n        \"num_unique_values\": 5,\n        \"samples\": [\n          \"@Ab_Fii \\u062e\\u0644\\u0635 \\u0631\\u0648\\u062d \\u0627\\u0644\\u0639\\u0628 \\u0628\\u0634\\u064a \\u0646\\u0639\\u062c\\u0647 \\u0627\\u062d\\u0637\",\n          \"@hannaemil1 \\u0627\\u0646\\u0627 \\u0645\\u0634 \\u0628\\u0634\\u0648\\u0641 \\u0627\\u0649 \\u0627\\u064a\\u0641\\u064a\\u0646\\u062a \\u064a\\u0627 \\u062d\\u0646\\u0627\\n\\u0639\\u0627\\u0645\\u0629 \\u0641\\u0643\\u0631\\u0646\\u0649 \\u0647\\u0646\\u0627\",\n          \"\\u0648 \\u0643\\u0645\\u0627 \\u0642\\u0627\\u0644 \\u0627\\u0644\\u0645\\u062b\\u0644 \\u0627\\u0644\\u0627\\u0646\\u062c\\u0644\\u064a\\u0632\\u064a .... you can't polish a TURD https://t.co/QGxkK9Qrnq\"\n        ],\n        \"semantic_type\": \"\",\n        \"description\": \"\"\n      }\n    },\n    {\n      \"column\": \"dialect\",\n      \"properties\": {\n        \"dtype\": \"string\",\n        \"num_unique_values\": 3,\n        \"samples\": [\n          \"LY\",\n          \"LB\",\n          \"EG\"\n        ],\n        \"semantic_type\": \"\",\n        \"description\": \"\"\n      }\n    }\n  ]\n}"
            }
          },
          "metadata": {},
          "execution_count": 15
        }
      ],
      "source": [
        "data.sample(5)"
      ]
    },
    {
      "cell_type": "markdown",
      "metadata": {
        "id": "GRBK0kyr5MZX"
      },
      "source": [
        "## Data splitting"
      ]
    },
    {
      "cell_type": "code",
      "execution_count": 28,
      "metadata": {
        "id": "tGyo6bUs5MZY"
      },
      "outputs": [],
      "source": [
        "x = data.drop(['dialect','id'],axis=1)\n",
        "labels = data['dialect']\n",
        "x_train, x_test, y_train, y_test = train_test_split(x, labels, test_size=.2, stratify=labels, random_state=42)"
      ]
    },
    {
      "cell_type": "markdown",
      "metadata": {
        "id": "jE-ExYbd5MZY"
      },
      "source": [
        "## EDA on training data"
      ]
    },
    {
      "cell_type": "markdown",
      "metadata": {
        "id": "y0Egio7i5MZY"
      },
      "source": [
        "- check NaNs"
      ]
    },
    {
      "cell_type": "code",
      "execution_count": null,
      "metadata": {
        "colab": {
          "base_uri": "https://localhost:8080/"
        },
        "id": "uXbLfhlJ5MZZ",
        "outputId": "5f2296e3-4c49-4a95-f7da-b8c062c4d679"
      },
      "outputs": [
        {
          "output_type": "stream",
          "name": "stdout",
          "text": [
            "No missing values in the DataFrame.\n"
          ]
        }
      ],
      "source": [
        "if x_train.isna().values.any():\n",
        "    print(\"There are missing values in the DataFrame.\")\n",
        "else:\n",
        "    print(\"No missing values in the DataFrame.\")"
      ]
    },
    {
      "cell_type": "code",
      "execution_count": null,
      "metadata": {
        "colab": {
          "base_uri": "https://localhost:8080/"
        },
        "id": "8mzhVxnX5MZZ",
        "outputId": "d6f55c20-5e39-4947-fba7-136a554c22b7"
      },
      "outputs": [
        {
          "output_type": "stream",
          "name": "stdout",
          "text": [
            "No duplicates in the DataFrame.\n"
          ]
        }
      ],
      "source": [
        "if x_train.duplicated().sum() == 0:\n",
        "    print(\"No duplicates in the DataFrame.\")\n",
        "else:\n",
        "    print(\"There are duplicates in the DataFrame.\")"
      ]
    },
    {
      "cell_type": "markdown",
      "metadata": {
        "id": "y4DMCz8i5MZa"
      },
      "source": [
        "- showing a representative sample of data texts to find out required preprocessing steps"
      ]
    },
    {
      "cell_type": "code",
      "execution_count": null,
      "metadata": {
        "colab": {
          "base_uri": "https://localhost:8080/",
          "height": 397
        },
        "id": "TGcTIJXi5MZa",
        "outputId": "d4e723ef-aa1a-43f4-d5f7-8a46dc54d615"
      },
      "outputs": [
        {
          "output_type": "execute_result",
          "data": {
            "text/plain": [
              "                                                                                                                                                                                                                                                                      text\n",
              "17679                                                                                                                                                  @AbeerMjnony ههههههه ويحتاج اندير بحث .من اللي ما يعرفش بس الموضوع انه ايطاليا فريق البنات .واستغربتك تكرهيهم ..فقط\n",
              "62039   هترتاحوا في الجامعه يا جماعه و هتذاكروا بمزاجكوا و انتوا مشغلين اغاني و مش مضغوطين ولا قرفانين ولا خايفين و قاعدين في النادي او كافيه براحتكوا و اهلكوا مش هيعترضوا و هتتبسطوا جداً من كل حاجه و متسمعوش لحد . السر في الصحاب اللي تعملوا معاهم كده بس مش اكتر♥️♥️\n",
              "104977                                                                   @rogina91 كان معايا مهندس زميل زمان مره اتناقشنا  في موضوع المخدرات قالي الحشيش مش حرام ولكن البيره حرام قلتله ليه قالي البيره والخمره مصنعه وبتسكر فحرام ولكن الحشيش نبات زرع خلقه ربنا فمش حرام\n",
              "100225                                                                                                                                                                                          #حياتي_بتحلو_لما\\nامي تدعيلي وانا نازل الشغل\\nدعوة الأم بتفتح ابواب متقفلة\n",
              "142028                                                                                                                                                                                                                     @hashomy_95 اي والله علي اليمين جاي فاقد اي شيء\n",
              "130750                                                                                                                                                                                                                                  @mmki123 يخرب عقلك من وين ناكشها 🤣\n",
              "71780                     دواء للسرطان أسمه جلافيك.. Glivec 100\\n100mg\\nسعر العلبه 11الف جنيه \\nموجود مجانا \"اللي معاه الروشته \\nومعاه ما يثبت انو مريض سرطان\"\\nيتصل علي \\n01270914171\\n01097665063\\nبلاش رتويت خد copy عشان يظهر لأكبر عدد\\nاللهم أشفي كل مريض♥\\n\\n#منقول\n",
              "66093                                                                                                                                                                                                               @Nuha_mansour ربنا يخليلنا بنات الدفعه والله بيتعبو 😂😂\n",
              "107066                                                                                                                                                                                                               كتبت هالتويت ومش فايقة اني كتبتو ع فكرة\\nولهلأ ما نمت\n",
              "35456                                                                                                                                                                                       @saaddenali علي اليمين الغرابه مايريدولنا وجه ولاهم حاسبينا معاهم في هالوطن..."
            ],
            "text/html": [
              "\n",
              "  <div id=\"df-83a377d3-b21e-4f39-9d4d-235947e39779\" class=\"colab-df-container\">\n",
              "    <div>\n",
              "<style scoped>\n",
              "    .dataframe tbody tr th:only-of-type {\n",
              "        vertical-align: middle;\n",
              "    }\n",
              "\n",
              "    .dataframe tbody tr th {\n",
              "        vertical-align: top;\n",
              "    }\n",
              "\n",
              "    .dataframe thead th {\n",
              "        text-align: right;\n",
              "    }\n",
              "</style>\n",
              "<table border=\"1\" class=\"dataframe\">\n",
              "  <thead>\n",
              "    <tr style=\"text-align: right;\">\n",
              "      <th></th>\n",
              "      <th>text</th>\n",
              "    </tr>\n",
              "  </thead>\n",
              "  <tbody>\n",
              "    <tr>\n",
              "      <th>17679</th>\n",
              "      <td>@AbeerMjnony ههههههه ويحتاج اندير بحث .من اللي ما يعرفش بس الموضوع انه ايطاليا فريق البنات .واستغربتك تكرهيهم ..فقط</td>\n",
              "    </tr>\n",
              "    <tr>\n",
              "      <th>62039</th>\n",
              "      <td>هترتاحوا في الجامعه يا جماعه و هتذاكروا بمزاجكوا و انتوا مشغلين اغاني و مش مضغوطين ولا قرفانين ولا خايفين و قاعدين في النادي او كافيه براحتكوا و اهلكوا مش هيعترضوا و هتتبسطوا جداً من كل حاجه و متسمعوش لحد . السر في الصحاب اللي تعملوا معاهم كده بس مش اكتر♥️♥️</td>\n",
              "    </tr>\n",
              "    <tr>\n",
              "      <th>104977</th>\n",
              "      <td>@rogina91 كان معايا مهندس زميل زمان مره اتناقشنا  في موضوع المخدرات قالي الحشيش مش حرام ولكن البيره حرام قلتله ليه قالي البيره والخمره مصنعه وبتسكر فحرام ولكن الحشيش نبات زرع خلقه ربنا فمش حرام</td>\n",
              "    </tr>\n",
              "    <tr>\n",
              "      <th>100225</th>\n",
              "      <td>#حياتي_بتحلو_لما\\nامي تدعيلي وانا نازل الشغل\\nدعوة الأم بتفتح ابواب متقفلة</td>\n",
              "    </tr>\n",
              "    <tr>\n",
              "      <th>142028</th>\n",
              "      <td>@hashomy_95 اي والله علي اليمين جاي فاقد اي شيء</td>\n",
              "    </tr>\n",
              "    <tr>\n",
              "      <th>130750</th>\n",
              "      <td>@mmki123 يخرب عقلك من وين ناكشها 🤣</td>\n",
              "    </tr>\n",
              "    <tr>\n",
              "      <th>71780</th>\n",
              "      <td>دواء للسرطان أسمه جلافيك.. Glivec 100\\n100mg\\nسعر العلبه 11الف جنيه \\nموجود مجانا \"اللي معاه الروشته \\nومعاه ما يثبت انو مريض سرطان\"\\nيتصل علي \\n01270914171\\n01097665063\\nبلاش رتويت خد copy عشان يظهر لأكبر عدد\\nاللهم أشفي كل مريض♥\\n\\n#منقول</td>\n",
              "    </tr>\n",
              "    <tr>\n",
              "      <th>66093</th>\n",
              "      <td>@Nuha_mansour ربنا يخليلنا بنات الدفعه والله بيتعبو 😂😂</td>\n",
              "    </tr>\n",
              "    <tr>\n",
              "      <th>107066</th>\n",
              "      <td>كتبت هالتويت ومش فايقة اني كتبتو ع فكرة\\nولهلأ ما نمت</td>\n",
              "    </tr>\n",
              "    <tr>\n",
              "      <th>35456</th>\n",
              "      <td>@saaddenali علي اليمين الغرابه مايريدولنا وجه ولاهم حاسبينا معاهم في هالوطن...</td>\n",
              "    </tr>\n",
              "  </tbody>\n",
              "</table>\n",
              "</div>\n",
              "    <div class=\"colab-df-buttons\">\n",
              "\n",
              "  <div class=\"colab-df-container\">\n",
              "    <button class=\"colab-df-convert\" onclick=\"convertToInteractive('df-83a377d3-b21e-4f39-9d4d-235947e39779')\"\n",
              "            title=\"Convert this dataframe to an interactive table.\"\n",
              "            style=\"display:none;\">\n",
              "\n",
              "  <svg xmlns=\"http://www.w3.org/2000/svg\" height=\"24px\" viewBox=\"0 -960 960 960\">\n",
              "    <path d=\"M120-120v-720h720v720H120Zm60-500h600v-160H180v160Zm220 220h160v-160H400v160Zm0 220h160v-160H400v160ZM180-400h160v-160H180v160Zm440 0h160v-160H620v160ZM180-180h160v-160H180v160Zm440 0h160v-160H620v160Z\"/>\n",
              "  </svg>\n",
              "    </button>\n",
              "\n",
              "  <style>\n",
              "    .colab-df-container {\n",
              "      display:flex;\n",
              "      gap: 12px;\n",
              "    }\n",
              "\n",
              "    .colab-df-convert {\n",
              "      background-color: #E8F0FE;\n",
              "      border: none;\n",
              "      border-radius: 50%;\n",
              "      cursor: pointer;\n",
              "      display: none;\n",
              "      fill: #1967D2;\n",
              "      height: 32px;\n",
              "      padding: 0 0 0 0;\n",
              "      width: 32px;\n",
              "    }\n",
              "\n",
              "    .colab-df-convert:hover {\n",
              "      background-color: #E2EBFA;\n",
              "      box-shadow: 0px 1px 2px rgba(60, 64, 67, 0.3), 0px 1px 3px 1px rgba(60, 64, 67, 0.15);\n",
              "      fill: #174EA6;\n",
              "    }\n",
              "\n",
              "    .colab-df-buttons div {\n",
              "      margin-bottom: 4px;\n",
              "    }\n",
              "\n",
              "    [theme=dark] .colab-df-convert {\n",
              "      background-color: #3B4455;\n",
              "      fill: #D2E3FC;\n",
              "    }\n",
              "\n",
              "    [theme=dark] .colab-df-convert:hover {\n",
              "      background-color: #434B5C;\n",
              "      box-shadow: 0px 1px 3px 1px rgba(0, 0, 0, 0.15);\n",
              "      filter: drop-shadow(0px 1px 2px rgba(0, 0, 0, 0.3));\n",
              "      fill: #FFFFFF;\n",
              "    }\n",
              "  </style>\n",
              "\n",
              "    <script>\n",
              "      const buttonEl =\n",
              "        document.querySelector('#df-83a377d3-b21e-4f39-9d4d-235947e39779 button.colab-df-convert');\n",
              "      buttonEl.style.display =\n",
              "        google.colab.kernel.accessAllowed ? 'block' : 'none';\n",
              "\n",
              "      async function convertToInteractive(key) {\n",
              "        const element = document.querySelector('#df-83a377d3-b21e-4f39-9d4d-235947e39779');\n",
              "        const dataTable =\n",
              "          await google.colab.kernel.invokeFunction('convertToInteractive',\n",
              "                                                    [key], {});\n",
              "        if (!dataTable) return;\n",
              "\n",
              "        const docLinkHtml = 'Like what you see? Visit the ' +\n",
              "          '<a target=\"_blank\" href=https://colab.research.google.com/notebooks/data_table.ipynb>data table notebook</a>'\n",
              "          + ' to learn more about interactive tables.';\n",
              "        element.innerHTML = '';\n",
              "        dataTable['output_type'] = 'display_data';\n",
              "        await google.colab.output.renderOutput(dataTable, element);\n",
              "        const docLink = document.createElement('div');\n",
              "        docLink.innerHTML = docLinkHtml;\n",
              "        element.appendChild(docLink);\n",
              "      }\n",
              "    </script>\n",
              "  </div>\n",
              "\n",
              "\n",
              "<div id=\"df-86958321-fb97-44ff-849f-4a4c6033c853\">\n",
              "  <button class=\"colab-df-quickchart\" onclick=\"quickchart('df-86958321-fb97-44ff-849f-4a4c6033c853')\"\n",
              "            title=\"Suggest charts\"\n",
              "            style=\"display:none;\">\n",
              "\n",
              "<svg xmlns=\"http://www.w3.org/2000/svg\" height=\"24px\"viewBox=\"0 0 24 24\"\n",
              "     width=\"24px\">\n",
              "    <g>\n",
              "        <path d=\"M19 3H5c-1.1 0-2 .9-2 2v14c0 1.1.9 2 2 2h14c1.1 0 2-.9 2-2V5c0-1.1-.9-2-2-2zM9 17H7v-7h2v7zm4 0h-2V7h2v10zm4 0h-2v-4h2v4z\"/>\n",
              "    </g>\n",
              "</svg>\n",
              "  </button>\n",
              "\n",
              "<style>\n",
              "  .colab-df-quickchart {\n",
              "      --bg-color: #E8F0FE;\n",
              "      --fill-color: #1967D2;\n",
              "      --hover-bg-color: #E2EBFA;\n",
              "      --hover-fill-color: #174EA6;\n",
              "      --disabled-fill-color: #AAA;\n",
              "      --disabled-bg-color: #DDD;\n",
              "  }\n",
              "\n",
              "  [theme=dark] .colab-df-quickchart {\n",
              "      --bg-color: #3B4455;\n",
              "      --fill-color: #D2E3FC;\n",
              "      --hover-bg-color: #434B5C;\n",
              "      --hover-fill-color: #FFFFFF;\n",
              "      --disabled-bg-color: #3B4455;\n",
              "      --disabled-fill-color: #666;\n",
              "  }\n",
              "\n",
              "  .colab-df-quickchart {\n",
              "    background-color: var(--bg-color);\n",
              "    border: none;\n",
              "    border-radius: 50%;\n",
              "    cursor: pointer;\n",
              "    display: none;\n",
              "    fill: var(--fill-color);\n",
              "    height: 32px;\n",
              "    padding: 0;\n",
              "    width: 32px;\n",
              "  }\n",
              "\n",
              "  .colab-df-quickchart:hover {\n",
              "    background-color: var(--hover-bg-color);\n",
              "    box-shadow: 0 1px 2px rgba(60, 64, 67, 0.3), 0 1px 3px 1px rgba(60, 64, 67, 0.15);\n",
              "    fill: var(--button-hover-fill-color);\n",
              "  }\n",
              "\n",
              "  .colab-df-quickchart-complete:disabled,\n",
              "  .colab-df-quickchart-complete:disabled:hover {\n",
              "    background-color: var(--disabled-bg-color);\n",
              "    fill: var(--disabled-fill-color);\n",
              "    box-shadow: none;\n",
              "  }\n",
              "\n",
              "  .colab-df-spinner {\n",
              "    border: 2px solid var(--fill-color);\n",
              "    border-color: transparent;\n",
              "    border-bottom-color: var(--fill-color);\n",
              "    animation:\n",
              "      spin 1s steps(1) infinite;\n",
              "  }\n",
              "\n",
              "  @keyframes spin {\n",
              "    0% {\n",
              "      border-color: transparent;\n",
              "      border-bottom-color: var(--fill-color);\n",
              "      border-left-color: var(--fill-color);\n",
              "    }\n",
              "    20% {\n",
              "      border-color: transparent;\n",
              "      border-left-color: var(--fill-color);\n",
              "      border-top-color: var(--fill-color);\n",
              "    }\n",
              "    30% {\n",
              "      border-color: transparent;\n",
              "      border-left-color: var(--fill-color);\n",
              "      border-top-color: var(--fill-color);\n",
              "      border-right-color: var(--fill-color);\n",
              "    }\n",
              "    40% {\n",
              "      border-color: transparent;\n",
              "      border-right-color: var(--fill-color);\n",
              "      border-top-color: var(--fill-color);\n",
              "    }\n",
              "    60% {\n",
              "      border-color: transparent;\n",
              "      border-right-color: var(--fill-color);\n",
              "    }\n",
              "    80% {\n",
              "      border-color: transparent;\n",
              "      border-right-color: var(--fill-color);\n",
              "      border-bottom-color: var(--fill-color);\n",
              "    }\n",
              "    90% {\n",
              "      border-color: transparent;\n",
              "      border-bottom-color: var(--fill-color);\n",
              "    }\n",
              "  }\n",
              "</style>\n",
              "\n",
              "  <script>\n",
              "    async function quickchart(key) {\n",
              "      const quickchartButtonEl =\n",
              "        document.querySelector('#' + key + ' button');\n",
              "      quickchartButtonEl.disabled = true;  // To prevent multiple clicks.\n",
              "      quickchartButtonEl.classList.add('colab-df-spinner');\n",
              "      try {\n",
              "        const charts = await google.colab.kernel.invokeFunction(\n",
              "            'suggestCharts', [key], {});\n",
              "      } catch (error) {\n",
              "        console.error('Error during call to suggestCharts:', error);\n",
              "      }\n",
              "      quickchartButtonEl.classList.remove('colab-df-spinner');\n",
              "      quickchartButtonEl.classList.add('colab-df-quickchart-complete');\n",
              "    }\n",
              "    (() => {\n",
              "      let quickchartButtonEl =\n",
              "        document.querySelector('#df-86958321-fb97-44ff-849f-4a4c6033c853 button');\n",
              "      quickchartButtonEl.style.display =\n",
              "        google.colab.kernel.accessAllowed ? 'block' : 'none';\n",
              "    })();\n",
              "  </script>\n",
              "</div>\n",
              "\n",
              "    </div>\n",
              "  </div>\n"
            ],
            "application/vnd.google.colaboratory.intrinsic+json": {
              "type": "dataframe",
              "summary": "{\n  \"name\": \"x_train\",\n  \"rows\": 10,\n  \"fields\": [\n    {\n      \"column\": \"text\",\n      \"properties\": {\n        \"dtype\": \"string\",\n        \"num_unique_values\": 10,\n        \"samples\": [\n          \"\\u0643\\u062a\\u0628\\u062a \\u0647\\u0627\\u0644\\u062a\\u0648\\u064a\\u062a \\u0648\\u0645\\u0634 \\u0641\\u0627\\u064a\\u0642\\u0629 \\u0627\\u0646\\u064a \\u0643\\u062a\\u0628\\u062a\\u0648 \\u0639 \\u0641\\u0643\\u0631\\u0629\\n\\u0648\\u0644\\u0647\\u0644\\u0623 \\u0645\\u0627 \\u0646\\u0645\\u062a\",\n          \"\\u0647\\u062a\\u0631\\u062a\\u0627\\u062d\\u0648\\u0627 \\u0641\\u064a \\u0627\\u0644\\u062c\\u0627\\u0645\\u0639\\u0647 \\u064a\\u0627 \\u062c\\u0645\\u0627\\u0639\\u0647 \\u0648 \\u0647\\u062a\\u0630\\u0627\\u0643\\u0631\\u0648\\u0627 \\u0628\\u0645\\u0632\\u0627\\u062c\\u0643\\u0648\\u0627 \\u0648 \\u0627\\u0646\\u062a\\u0648\\u0627 \\u0645\\u0634\\u063a\\u0644\\u064a\\u0646 \\u0627\\u063a\\u0627\\u0646\\u064a \\u0648 \\u0645\\u0634 \\u0645\\u0636\\u063a\\u0648\\u0637\\u064a\\u0646 \\u0648\\u0644\\u0627 \\u0642\\u0631\\u0641\\u0627\\u0646\\u064a\\u0646 \\u0648\\u0644\\u0627 \\u062e\\u0627\\u064a\\u0641\\u064a\\u0646 \\u0648 \\u0642\\u0627\\u0639\\u062f\\u064a\\u0646 \\u0641\\u064a \\u0627\\u0644\\u0646\\u0627\\u062f\\u064a \\u0627\\u0648 \\u0643\\u0627\\u0641\\u064a\\u0647 \\u0628\\u0631\\u0627\\u062d\\u062a\\u0643\\u0648\\u0627 \\u0648 \\u0627\\u0647\\u0644\\u0643\\u0648\\u0627 \\u0645\\u0634 \\u0647\\u064a\\u0639\\u062a\\u0631\\u0636\\u0648\\u0627 \\u0648 \\u0647\\u062a\\u062a\\u0628\\u0633\\u0637\\u0648\\u0627 \\u062c\\u062f\\u0627\\u064b \\u0645\\u0646 \\u0643\\u0644 \\u062d\\u0627\\u062c\\u0647 \\u0648 \\u0645\\u062a\\u0633\\u0645\\u0639\\u0648\\u0634 \\u0644\\u062d\\u062f . \\u0627\\u0644\\u0633\\u0631 \\u0641\\u064a \\u0627\\u0644\\u0635\\u062d\\u0627\\u0628 \\u0627\\u0644\\u0644\\u064a \\u062a\\u0639\\u0645\\u0644\\u0648\\u0627 \\u0645\\u0639\\u0627\\u0647\\u0645 \\u0643\\u062f\\u0647 \\u0628\\u0633 \\u0645\\u0634 \\u0627\\u0643\\u062a\\u0631\\u2665\\ufe0f\\u2665\\ufe0f\",\n          \"@mmki123 \\u064a\\u062e\\u0631\\u0628 \\u0639\\u0642\\u0644\\u0643 \\u0645\\u0646 \\u0648\\u064a\\u0646 \\u0646\\u0627\\u0643\\u0634\\u0647\\u0627 \\ud83e\\udd23\"\n        ],\n        \"semantic_type\": \"\",\n        \"description\": \"\"\n      }\n    }\n  ]\n}"
            }
          },
          "metadata": {},
          "execution_count": 21
        }
      ],
      "source": [
        "x_train.sample(10)"
      ]
    },
    {
      "cell_type": "markdown",
      "metadata": {
        "id": "ZJf6q9TF5MZa"
      },
      "source": [
        "- check dataset balancing"
      ]
    },
    {
      "cell_type": "code",
      "execution_count": null,
      "metadata": {
        "colab": {
          "base_uri": "https://localhost:8080/"
        },
        "id": "AcRfENDp5MZb",
        "outputId": "7e34903f-c7a6-4406-b2b6-fc1557f53e88"
      },
      "outputs": [
        {
          "output_type": "stream",
          "name": "stdout",
          "text": [
            "Class distribution:\n",
            "dialect\n",
            "EG    46109\n",
            "LY    29199\n",
            "LB    22094\n",
            "SD    11547\n",
            "MA     9231\n",
            "Name: count, dtype: int64\n"
          ]
        }
      ],
      "source": [
        "class_counts = y_train.value_counts()\n",
        "print(\"Class distribution:\")\n",
        "print(class_counts)"
      ]
    },
    {
      "cell_type": "code",
      "execution_count": null,
      "metadata": {
        "colab": {
          "base_uri": "https://localhost:8080/",
          "height": 472
        },
        "id": "Y5JkuZCe5MZb",
        "outputId": "89a3b14b-1118-4a93-9b17-1ecbdaae0804"
      },
      "outputs": [
        {
          "output_type": "display_data",
          "data": {
            "text/plain": [
              "<Figure size 640x480 with 1 Axes>"
            ],
            "image/png": "[encoded data removed]"
          },
          "metadata": {}
        }
      ],
      "source": [
        "rating_counts = y_train.value_counts(normalize=True) * 100\n",
        "\n",
        "# Plot\n",
        "ax = sns.barplot(x=rating_counts.index, y=rating_counts.values)\n",
        "plt.xlabel('dialect')\n",
        "plt.ylabel('Percentage')\n",
        "plt.title('Percentage of Each dialect')\n",
        "\n",
        "# Adding percentage text above each bar\n",
        "for p in ax.patches:\n",
        "    ax.annotate(f'{p.get_height():.2f}%', (p.get_x() + p.get_width() / 2., p.get_height()),\n",
        "                ha='center', va='center', fontsize=11, color='black', xytext=(0, 5),\n",
        "                textcoords='offset points')\n",
        "\n",
        "plt.show()"
      ]
    },
    {
      "cell_type": "markdown",
      "metadata": {
        "id": "lYtFAN8M5MZb"
      },
      "source": [
        "### Dataset is imbalanced\n",
        "- We will use f1 score as a metric to evaluate the model, as it is more robust to imbalanced datasets than accuracy.<br>\n",
        "- We can also perform downsampling to balance the dataset but we will delay this step for now.<br>\n",
        "- `Note:` Maybe we shouldn't change the data balance and work with the imbalanced data because it's the data nature to be imbalanced because `EG` is the most spoking Arabic dialect because of high population numbers.<br>"
      ]
    },
    {
      "cell_type": "markdown",
      "metadata": {
        "id": "irMfSHAY5MZc"
      },
      "source": [
        "## Cleaning and Preprocessing"
      ]
    },
    {
      "cell_type": "code",
      "source": [
        "# Download stopwords if not already downloaded\n",
        "nltk.download('stopwords')\n",
        "\n",
        "# Initialize Farasa components\n",
        "farasa_stemmer = FarasaStemmer(interactive=True)\n",
        "\n",
        "class CustomTransformer(BaseEstimator, TransformerMixin):\n",
        "    def __init__(self):\n",
        "        self.arabic_stop_words = set(stopwords.words('arabic'))\n",
        "        self.tokenizer = Tokenizer()\n",
        "        self.symbols_pattern = re.compile(r'(\"|\\|\\|\\||!|!!!|`|\\.{3}|_)')\n",
        "        self.arabic_punctuation_pattern = re.compile(r'[،؟؛٪«»…ـ‘’“”]')\n",
        "        self.general_punctuation_pattern = re.compile(r'[^\\w\\s]')\n",
        "        self.digits_pattern = re.compile(r'\\d+')\n",
        "        self.username_pattern = re.compile(r'@\\w+')\n",
        "        self.url_pattern = re.compile(r'https?://\\S+|www\\.\\S+')\n",
        "        self.single_char_pattern = re.compile(r'\\b\\w{1,2}\\b')\n",
        "\n",
        "    def preprocess_sentence(self, sentence):\n",
        "        # Remove diacritics\n",
        "        sentence = araby.strip_tashkeel(sentence)\n",
        "        # Normalize hamzas\n",
        "        sentence = araby.normalize_hamza(sentence)\n",
        "        # Remove URLs\n",
        "        sentence = self.url_pattern.sub('', sentence)\n",
        "        # Remove usernames\n",
        "        sentence = self.username_pattern.sub('', sentence)\n",
        "        # Remove emojis\n",
        "        sentence = emoji.replace_emoji(sentence, replace='')\n",
        "        # Remove specific symbols\n",
        "        sentence = self.symbols_pattern.sub('', sentence)\n",
        "        # Remove non-word and non-digit characters\n",
        "        sentence = re.sub(r'[^\\w\\d\\s]+', '', sentence)\n",
        "        # Remove punctuation and numbers\n",
        "        sentence = self.arabic_punctuation_pattern.sub('', sentence)\n",
        "        sentence = self.general_punctuation_pattern.sub('', sentence)\n",
        "        sentence = self.digits_pattern.sub('', sentence)\n",
        "        # Split text into words\n",
        "        words = araby.tokenize(sentence)\n",
        "        # Apply stemming\n",
        "        stemmed_words = [farasa_stemmer.stem(word) for word in words if farasa_stemmer.stem(word) is not None]\n",
        "        # Remove stop words\n",
        "        filtered_words = [word for word in stemmed_words if word not in self.arabic_stop_words]\n",
        "        return ' '.join(filtered_words)\n",
        "\n",
        "    def preprocess_dataframe_column(self, data):\n",
        "        return data.apply(self.preprocess_sentence)\n",
        "\n",
        "    def fit(self, X, y=None):\n",
        "        return self\n",
        "\n",
        "    def transform(self, X, y=None):\n",
        "        transformed_X = self.preprocess_dataframe_column(X['text'])\n",
        "        transformed_X = np.array(transformed_X).reshape(-1, 1)\n",
        "        return transformed_X\n",
        "\n",
        "    def fit_transform(self, X, y=None):\n",
        "        self.fit(X, y)\n",
        "        return self.transform(X)\n",
        "\n"
      ],
      "metadata": {
        "colab": {
          "base_uri": "https://localhost:8080/"
        },
        "id": "qULJG_Zklpn6",
        "outputId": "2ea790fe-6df9-4357-cf4a-3bd5d96a4bf0"
      },
      "execution_count": 30,
      "outputs": [
        {
          "output_type": "stream",
          "name": "stderr",
          "text": [
            "[nltk_data] Downloading package stopwords to /root/nltk_data...\n",
            "[nltk_data]   Package stopwords is already up-to-date!\n",
            "[2024-05-24 08:36:35,589 - farasapy_logger - WARNING]: Be careful with large lines as they may break on interactive mode. You may switch to Standalone mode for such cases.\n"
          ]
        }
      ]
    },
    {
      "cell_type": "code",
      "source": [
        "trans = CustomTransformer()\n",
        "d_x_train  = trans.fit_transform(x_train)\n"
      ],
      "metadata": {
        "id": "bgcQ-3iICbhZ"
      },
      "execution_count": 31,
      "outputs": []
    },
    {
      "cell_type": "markdown",
      "source": [
        "![image.png](data:image/png;base64,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)"
      ],
      "metadata": {
        "id": "UlWpGIhhfGep"
      }
    },
    {
      "cell_type": "markdown",
      "source": [
        "![image.png](data:image/png;base64,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)"
      ],
      "metadata": {
        "id": "veiuI4aNo3J0"
      }
    },
    {
      "cell_type": "code",
      "source": [
        "y_train = np.array(y_train).reshape(-1,1)"
      ],
      "metadata": {
        "id": "e1vC1uOWnB6V"
      },
      "execution_count": 32,
      "outputs": []
    },
    {
      "cell_type": "code",
      "source": [
        "d_y_train_df = pd.DataFrame(y_train, columns=['type'])\n"
      ],
      "metadata": {
        "id": "7klGL0I-yjhO"
      },
      "execution_count": 37,
      "outputs": []
    },
    {
      "cell_type": "code",
      "source": [
        "print(\"Unique tags in corpus:\", d_y_train_df['type'].nunique())"
      ],
      "metadata": {
        "colab": {
          "base_uri": "https://localhost:8080/"
        },
        "id": "M0ZkZcg6Li4Z",
        "outputId": "a30c6e0f-c277-4a1a-a895-99c1fe82a454"
      },
      "execution_count": 38,
      "outputs": [
        {
          "output_type": "stream",
          "name": "stdout",
          "text": [
            "Unique tags in corpus: 5\n"
          ]
        }
      ]
    },
    {
      "cell_type": "code",
      "source": [
        "transformed_X_test= trans.transform(x_test)\n",
        "transformed_X_test = np.array(transformed_X_test).reshape(-1,1)\n",
        "print(transformed_X_test.shape)"
      ],
      "metadata": {
        "colab": {
          "base_uri": "https://localhost:8080/"
        },
        "id": "W94XG2STzPv2",
        "outputId": "02aa3225-50d3-4288-b8dc-90ac55f21227"
      },
      "execution_count": 39,
      "outputs": [
        {
          "output_type": "stream",
          "name": "stdout",
          "text": [
            "(29545, 1)\n"
          ]
        }
      ]
    },
    {
      "cell_type": "code",
      "source": [
        "d_x_test_df = pd.DataFrame(transformed_X_test,columns=['text'])\n"
      ],
      "metadata": {
        "id": "-p07KSyHzTZW"
      },
      "execution_count": 41,
      "outputs": []
    },
    {
      "cell_type": "markdown",
      "source": [
        "## converting to numerical representation"
      ],
      "metadata": {
        "id": "euAXAEt4NBwj"
      }
    },
    {
      "cell_type": "code",
      "source": [
        "d_x_train_df = pd.DataFrame(d_x_train , columns = ['text'])"
      ],
      "metadata": {
        "id": "ThHTlSWF0wVK"
      },
      "execution_count": 45,
      "outputs": []
    },
    {
      "cell_type": "code",
      "source": [
        "tokenizer= Tokenizer()\n",
        "tokenizer.fit_on_texts(d_x_train_df['text'])\n",
        "sequences = tokenizer.texts_to_sequences(d_x_train_df['text'])"
      ],
      "metadata": {
        "id": "awlG8NYF0mkf"
      },
      "execution_count": 47,
      "outputs": []
    },
    {
      "cell_type": "code",
      "source": [
        "plt.hist([len(s) for s in sequences], bins=50)\n",
        "plt.show()"
      ],
      "metadata": {
        "colab": {
          "base_uri": "https://localhost:8080/",
          "height": 430
        },
        "id": "Fm771itzAvQe",
        "outputId": "51184f18-6d4f-458f-daae-e55fcec1eaa1"
      },
      "execution_count": 110,
      "outputs": [
        {
          "output_type": "display_data",
          "data": {
            "text/plain": [
              "<Figure size 640x480 with 1 Axes>"
            ],
            "image/png": "[encoded data removed]"
          },
          "metadata": {}
        }
      ]
    },
    {
      "cell_type": "markdown",
      "source": [
        "`Note:`We will chose tow `max_len` and save them to train our model."
      ],
      "metadata": {
        "id": "TPpnvLv0Bd9O"
      }
    },
    {
      "cell_type": "code",
      "source": [
        "max_len = 40\n",
        "max_len2 = 26\n",
        "# number of unique words\n",
        "vocab_size =len(tokenizer.word_index)+1\n",
        "print(\"Unique tags in corpus:\",vocab_size )"
      ],
      "metadata": {
        "colab": {
          "base_uri": "https://localhost:8080/"
        },
        "id": "Ucu_kCHx1owP",
        "outputId": "a880c4da-920b-4d71-ef4c-538030e42106"
      },
      "execution_count": 103,
      "outputs": [
        {
          "output_type": "stream",
          "name": "stdout",
          "text": [
            "Unique tags in corpus: 116965\n"
          ]
        }
      ]
    },
    {
      "cell_type": "markdown",
      "source": [
        "## Padding"
      ],
      "metadata": {
        "id": "Lcd6wJyY1uio"
      }
    },
    {
      "cell_type": "code",
      "source": [
        "padded_sequences_train = pad_sequences(sequences, maxlen= max_len, padding='post' ,truncating='post')\n",
        "padded_sequences_train2 = pad_sequences(sequences, maxlen= max_len2, padding='post' ,truncating='post')\n"
      ],
      "metadata": {
        "id": "frD0fJ5H1wE-"
      },
      "execution_count": 104,
      "outputs": []
    },
    {
      "cell_type": "markdown",
      "source": [
        "### Tokenizer and padding on test"
      ],
      "metadata": {
        "id": "y3O3A72d3VM6"
      }
    },
    {
      "cell_type": "code",
      "source": [
        "# Convert test text to sequences of integers using the fitted tokenizer\n",
        "sequences_test = tokenizer.texts_to_sequences(x_test['text'])\n",
        "\n",
        "padded_sequences_test = pad_sequences(sequences_test, maxlen=max_len, padding='post',truncating='post' )\n",
        "padded_sequences_test2 = pad_sequences(sequences_test, maxlen=max_len2, padding='post',truncating='post' )\n"
      ],
      "metadata": {
        "id": "8InC5leJ3XVk"
      },
      "execution_count": 105,
      "outputs": []
    },
    {
      "cell_type": "code",
      "source": [
        "label_encoder = LabelEncoder()\n",
        "y_train_encoded = label_encoder.fit_transform(y_train)\n",
        "y_test_encoded = label_encoder.transform(y_test)"
      ],
      "metadata": {
        "colab": {
          "base_uri": "https://localhost:8080/"
        },
        "id": "EhzvicH23bd9",
        "outputId": "a3beb050-701a-4a9e-dc91-47cdab722571"
      },
      "execution_count": 106,
      "outputs": [
        {
          "output_type": "stream",
          "name": "stderr",
          "text": [
            "/usr/local/lib/python3.10/dist-packages/sklearn/preprocessing/_label.py:116: DataConversionWarning: A column-vector y was passed when a 1d array was expected. Please change the shape of y to (n_samples, ), for example using ravel().\n",
            "  y = column_or_1d(y, warn=True)\n"
          ]
        }
      ]
    },
    {
      "cell_type": "code",
      "source": [
        "print(\"class labels:\", label_encoder.classes_ )\n",
        "print(\"encoded values:\", np.unique(y_train_encoded))"
      ],
      "metadata": {
        "colab": {
          "base_uri": "https://localhost:8080/"
        },
        "id": "sfmSWXwI3c7U",
        "outputId": "37e37066-63dc-412c-be9f-6ac61f30b68f"
      },
      "execution_count": 107,
      "outputs": [
        {
          "output_type": "stream",
          "name": "stdout",
          "text": [
            "class labels: ['EG' 'LB' 'LY' 'MA' 'SD']\n",
            "encoded values: [0 1 2 3 4]\n"
          ]
        }
      ]
    },
    {
      "cell_type": "code",
      "source": [
        "padded_sequences_train"
      ],
      "metadata": {
        "colab": {
          "base_uri": "https://localhost:8080/"
        },
        "id": "ucOSKcZ23llh",
        "outputId": "e4935963-09d4-4a4c-82d2-64009b6beb52"
      },
      "execution_count": 96,
      "outputs": [
        {
          "output_type": "execute_result",
          "data": {
            "text/plain": [
              "array([[    2,   320,    87, ...,     0,     0,     0],\n",
              "       [  254, 14452,   355, ...,     0,     0,     0],\n",
              "       [11097,  1731,    33, ...,     0,     0,     0],\n",
              "       ...,\n",
              "       [   55,  1722, 10112, ...,     0,     0,     0],\n",
              "       [    1,     5,   400, ...,     0,     0,     0],\n",
              "       [  186,     4,  3466, ...,     0,     0,     0]], dtype=int32)"
            ]
          },
          "metadata": {},
          "execution_count": 96
        }
      ]
    },
    {
      "cell_type": "code",
      "source": [
        "y_train_encoded"
      ],
      "metadata": {
        "colab": {
          "base_uri": "https://localhost:8080/"
        },
        "id": "UJGVjXSi3fJN",
        "outputId": "c4661e8d-7598-495b-8b2c-a8937a7edb74"
      },
      "execution_count": 97,
      "outputs": [
        {
          "output_type": "execute_result",
          "data": {
            "text/plain": [
              "array([2, 2, 0, ..., 2, 0, 0])"
            ]
          },
          "metadata": {},
          "execution_count": 97
        }
      ]
    },
    {
      "cell_type": "code",
      "source": [
        "model = LogisticRegression()\n",
        "\n",
        "# Create the pipeline\n",
        "pipeline = Pipeline(steps=[\n",
        "    ('model', model),\n",
        "])\n",
        "# Now you can use the pipeline for training and prediction\n",
        "pipeline.fit(padded_sequences_train,y_train_encoded)\n",
        "pred = pipeline.predict(padded_sequences_test)\n",
        "pred"
      ],
      "metadata": {
        "id": "wJPGWvNCUOMn",
        "colab": {
          "base_uri": "https://localhost:8080/"
        },
        "outputId": "b92df6d6-564b-459d-9156-bb2a3ca65fce"
      },
      "execution_count": 98,
      "outputs": [
        {
          "output_type": "stream",
          "name": "stderr",
          "text": [
            "/usr/local/lib/python3.10/dist-packages/sklearn/linear_model/_logistic.py:458: ConvergenceWarning: lbfgs failed to converge (status=1):\n",
            "STOP: TOTAL NO. of ITERATIONS REACHED LIMIT.\n",
            "\n",
            "Increase the number of iterations (max_iter) or scale the data as shown in:\n",
            "    https://scikit-learn.org/stable/modules/preprocessing.html\n",
            "Please also refer to the documentation for alternative solver options:\n",
            "    https://scikit-learn.org/stable/modules/linear_model.html#logistic-regression\n",
            "  n_iter_i = _check_optimize_result(\n"
          ]
        },
        {
          "output_type": "execute_result",
          "data": {
            "text/plain": [
              "array([0, 0, 0, ..., 0, 0, 0])"
            ]
          },
          "metadata": {},
          "execution_count": 98
        }
      ]
    },
    {
      "cell_type": "markdown",
      "source": [
        "#### Evaluation"
      ],
      "metadata": {
        "id": "nTt1qD-F5FLN"
      }
    },
    {
      "cell_type": "markdown",
      "source": [
        "**Evaluation metric:**\n",
        "macro f1 score\n",
        "\n",
        "Macro F1 score is a useful metric in scenarios where you want to evaluate the overall performance of a multi-class classification model, **particularly when the classes are imbalanced**"
      ],
      "metadata": {
        "id": "I5vUfkXI5G54"
      }
    },
    {
      "cell_type": "markdown",
      "source": [
        "![Calculation](https://assets-global.website-files.com/5d7b77b063a9066d83e1209c/639c3d934e82c1195cdf3c60_macro-f1.webp)"
      ],
      "metadata": {
        "id": "D_J75OIJ5IJ3"
      }
    },
    {
      "cell_type": "code",
      "source": [
        "f1_score(y_test_encoded, pred, average='macro')"
      ],
      "metadata": {
        "colab": {
          "base_uri": "https://localhost:8080/"
        },
        "id": "xxhNci875Kv-",
        "outputId": "d3f924f1-d2eb-4862-df42-2149d7925965"
      },
      "execution_count": 99,
      "outputs": [
        {
          "output_type": "execute_result",
          "data": {
            "text/plain": [
              "0.1122613946240748"
            ]
          },
          "metadata": {},
          "execution_count": 99
        }
      ]
    },
    {
      "cell_type": "code",
      "source": [
        "padded_sequences_train2.shape , y_train_encoded.shape , y_test_encoded.shape , padded_sequences_test2.shape\n"
      ],
      "metadata": {
        "colab": {
          "base_uri": "https://localhost:8080/"
        },
        "id": "bvVDJob8Ab_p",
        "outputId": "98f7fe0f-13cf-4b11-cef5-4f839b6ac09f"
      },
      "execution_count": 108,
      "outputs": [
        {
          "output_type": "execute_result",
          "data": {
            "text/plain": [
              "((118180, 26), (118180,), (29545,), (29545, 26))"
            ]
          },
          "metadata": {},
          "execution_count": 108
        }
      ]
    },
    {
      "cell_type": "code",
      "source": [
        "padded_sequences_train.shape , y_train_encoded.shape , y_test_encoded.shape , padded_sequences_test.shape"
      ],
      "metadata": {
        "colab": {
          "base_uri": "https://localhost:8080/"
        },
        "id": "on_R3RhI5otj",
        "outputId": "5b80df38-a7dd-4059-f10a-c380fac8072e"
      },
      "execution_count": 109,
      "outputs": [
        {
          "output_type": "execute_result",
          "data": {
            "text/plain": [
              "((118180, 40), (118180,), (29545,), (29545, 40))"
            ]
          },
          "metadata": {},
          "execution_count": 109
        }
      ]
    },
    {
      "cell_type": "code",
      "source": [
        "train_df = pd.DataFrame({\n",
        "    'X_train': list(padded_sequences_train),\n",
        "    'y_train': y_train_encoded\n",
        "})\n",
        "\n",
        "\n",
        "test_df = pd.DataFrame({\n",
        "    'X_test': list(padded_sequences_test),\n",
        "    'y_test': y_test_encoded\n",
        "})\n",
        "\n",
        "\n",
        "train_df2 = pd.DataFrame({\n",
        "    'X_train': list(padded_sequences_train2),\n",
        "    'y_train': y_train_encoded\n",
        "})\n",
        "\n",
        "\n",
        "test_df2 = pd.DataFrame({\n",
        "    'X_test': list(padded_sequences_test2),\n",
        "    'y_test': y_test_encoded\n",
        "})\n",
        "\n",
        "# Combine the train and test DataFrames\n",
        "# combined_df = pd.concat([train_df, test_df], axis=1)\n",
        "\n",
        "# Save to CSV\n",
        "train_df.to_csv('train_data_40.csv', index=False)\n",
        "test_df.to_csv('test_data_40.csv', index=False)\n",
        "\n",
        "train_df2.to_csv('train_data_40.csv', index=False)\n",
        "test_df2.to_csv('test_data_40.csv', index=False)\n",
        "\n"
      ],
      "metadata": {
        "id": "Bo8yLd6W6o5u"
      },
      "execution_count": 101,
      "outputs": []
    },
    {
      "cell_type": "markdown",
      "source": [
        "Now we are ready to train our model on `Model_Training` notebook ."
      ],
      "metadata": {
        "id": "-w9L2XsYBvtU"
      }
    },
    {
      "cell_type": "code",
      "source": [
        "tokenizer= Tokenizer()\n",
        "tokenizer.fit_on_texts(d_x_train['text'])\n",
        "sequences = tokenizer.texts_to_sequences(d_x_train['text'])"
      ],
      "metadata": {
        "id": "NNusWhMJNC66"
      },
      "execution_count": null,
      "outputs": []
    },
    {
      "cell_type": "code",
      "source": [
        "from tensorflow.keras.models import Sequential\n",
        "from tensorflow.keras.layers import Dense, Embedding, LSTM"
      ],
      "metadata": {
        "id": "xGD4gLQpXLFC"
      },
      "execution_count": null,
      "outputs": []
    },
    {
      "cell_type": "code",
      "source": [
        "model = Sequential([\n",
        "    Embedding(input_dim=116958, output_dim=128, input_length=40),\n",
        "    LSTM(128, return_sequences=True),\n",
        "    LSTM(128),\n",
        "    Dense(5, activation='sigmoid')\n",
        "])"
      ],
      "metadata": {
        "id": "P-voJzAzXEW1"
      },
      "execution_count": null,
      "outputs": []
    },
    {
      "cell_type": "code",
      "source": [
        "\n",
        "model.compile(optimizer='adam', loss='binary_crossentropy', metrics=['accuracy'])\n",
        "\n",
        "# Create the pipeline\n",
        "pipeline = Pipeline(steps=[\n",
        "    ('preprocessing', CustomTransformer()),\n",
        "    ('tokenizing', TokenizerTransformer()),\n",
        "    ('model', model)\n",
        "])"
      ],
      "metadata": {
        "id": "nPZJ2pO9XHMI"
      },
      "execution_count": null,
      "outputs": []
    }
  ],
  "metadata": {
    "kernelspec": {
      "display_name": "Python 3",
      "name": "python3"
    },
    "language_info": {
      "codemirror_mode": {
        "name": "ipython",
        "version": 3
      },
      "file_extension": ".py",
      "mimetype": "text/x-python",
      "name": "python",
      "nbconvert_exporter": "python",
      "pygments_lexer": "ipython3",
      "version": "3.11.2"
    },
    "colab": {
      "provenance": [],
      "gpuType": "T4"
    },
    "accelerator": "GPU"
  },
  "nbformat": 4,
  "nbformat_minor": 0
}